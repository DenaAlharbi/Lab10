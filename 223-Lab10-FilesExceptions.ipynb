{
 "cells": [
  {
   "cell_type": "markdown",
   "metadata": {
    "slideshow": {
     "slide_type": "slide"
    }
   },
   "source": [
    "# ICS 104 - Introduction to Programming in Python and C\n",
    "## 223-Lab10-Files and Exceptions"
   ]
  },
  {
   "cell_type": "markdown",
   "metadata": {
    "slideshow": {
     "slide_type": "slide"
    }
   },
   "source": [
    "# Lab Learning Outcomes\n",
    "- To read and write text files\n",
    "- To process collections of data\n",
    "- To raise and handle exceptions"
   ]
  },
  {
   "cell_type": "markdown",
   "metadata": {
    "slideshow": {
     "slide_type": "slide"
    }
   },
   "source": [
    "# Exercises"
   ]
  },
  {
   "cell_type": "markdown",
   "metadata": {},
   "source": [
    "## Exercise # 1:\n",
    "Write a program that creates the file \"LetterGrades.txt\" filled with 1000 randomly generated letter grades.\n",
    "A+, A, B+, B, C+, C, D+, D, and F.\n",
    "Letter grades: \n"
   ]
  },
  {
   "cell_type": "code",
   "execution_count": 80,
   "metadata": {},
   "outputs": [],
   "source": [
    "# YOUR CODE HERE\n",
    "from random import randint\n",
    "listA = [ \"A+\", \"A\", \"B+\", \"B\", \"C+\", \"C\", \"D+\",\"D\",\"F\"]\n",
    "fileA = open(\"LetterGrades.txt\",\"w\")\n",
    "for _ in range(1000):\n",
    "    i = randint(0,8)\n",
    "    print(listA[i], file = fileA)\n",
    "    \n",
    "\n",
    "fileA.close()"
   ]
  },
  {
   "attachments": {},
   "cell_type": "markdown",
   "metadata": {
    "slideshow": {
     "slide_type": "slide"
    }
   },
   "source": [
    "## Exercise # 2:\n",
    "Write a program that reads the file \"LetterGrades.txt\" created in the previous exercise. The program finds the GPA of the grades using the dictionary used in exercise 2 of Lab09.\n"
   ]
  },
  {
   "cell_type": "code",
   "execution_count": 81,
   "metadata": {},
   "outputs": [
    {
     "name": "stdout",
     "output_type": "stream",
     "text": [
      "2.066\n"
     ]
    }
   ],
   "source": [
    "# YOUR CODE HERE\n",
    "di={\"A+\":4.0, \"A\":3.75, \"B+\":3.5, \"B\":3.0, \"C+\":2.5, \"C\":2.0, \"D+\":1.5,\"D\":1.0, \"F\":0.0}\n",
    "fileB = open(\"LetterGrades.txt\" , \"r\")\n",
    "out = 0\n",
    "for i in range(1000):\n",
    "    i = fileB.readline().strip()\n",
    "    i = di.get(str(i))\n",
    "    i = int(i)\n",
    "    out = out + i\n",
    "GPA = out/1000\n",
    "print(GPA)"
   ]
  },
  {
   "cell_type": "markdown",
   "metadata": {},
   "source": [
    "## Exercise # 3:\n",
    "\n",
    "Write a function `def isFloat(string)` that takes a string as a parameter and returns True if the string is a float number otherwise it returns False. Use try-except block inside the function.\n",
    "\n",
    "Test your function by prompting the user for a float number and looping till he enters a valid float."
   ]
  },
  {
   "cell_type": "code",
   "execution_count": 22,
   "metadata": {},
   "outputs": [
    {
     "name": "stdout",
     "output_type": "stream",
     "text": [
      "An exception has occered...\n",
      "Valid float\n"
     ]
    }
   ],
   "source": [
    "# YOUR CODE HERE\n",
    "def isFloat(string):\n",
    "    try:\n",
    "        float(string)\n",
    "        return True\n",
    "    except ValueError:\n",
    "        print(\"An exception has occered...\")\n",
    "        return False\n",
    "\n",
    "\n",
    "def main():\n",
    "    string = input(\"Enter a float: \")\n",
    "    while not isFloat(string):\n",
    "        string = input(\"Invalid. Enter a float: \")\n",
    "    print(\"Valid float\")\n",
    "\n",
    "main()\n"
   ]
  }
 ],
 "metadata": {
  "celltoolbar": "Create Assignment",
  "kernelspec": {
   "display_name": "Python 3 (ipykernel)",
   "language": "python",
   "name": "python3"
  },
  "language_info": {
   "codemirror_mode": {
    "name": "ipython",
    "version": 3
   },
   "file_extension": ".py",
   "mimetype": "text/x-python",
   "name": "python",
   "nbconvert_exporter": "python",
   "pygments_lexer": "ipython3",
   "version": "3.11.4"
  },
  "rise": {
   "theme": "yellow"
  },
  "toc": {
   "base_numbering": 1,
   "nav_menu": {},
   "number_sections": true,
   "sideBar": true,
   "skip_h1_title": false,
   "title_cell": "Table of Contents",
   "title_sidebar": "Contents",
   "toc_cell": false,
   "toc_position": {},
   "toc_section_display": true,
   "toc_window_display": false
  },
  "varInspector": {
   "cols": {
    "lenName": 16,
    "lenType": 16,
    "lenVar": 40
   },
   "kernels_config": {
    "python": {
     "delete_cmd_postfix": "",
     "delete_cmd_prefix": "del ",
     "library": "var_list.py",
     "varRefreshCmd": "print(var_dic_list())"
    },
    "r": {
     "delete_cmd_postfix": ") ",
     "delete_cmd_prefix": "rm(",
     "library": "var_list.r",
     "varRefreshCmd": "cat(var_dic_list()) "
    }
   },
   "types_to_exclude": [
    "module",
    "function",
    "builtin_function_or_method",
    "instance",
    "_Feature"
   ],
   "window_display": false
  }
 },
 "nbformat": 4,
 "nbformat_minor": 4
}
